{
 "cells": [
  {
   "cell_type": "code",
   "execution_count": 1,
   "id": "ba5d7b2e",
   "metadata": {
    "pycharm": {
     "name": "#%%\n"
    }
   },
   "outputs": [],
   "source": [
    "import argparse\n",
    "import logging\n",
    "import numbers\n",
    "import sys\n",
    "from time import sleep\n",
    "\n",
    "from yaml import safe_load\n",
    "\n",
    "from pydnp3 import opendnp3\n",
    "from dnp3.points import (\n",
    "    PointArray, PointDefinitions, PointDefinition, DNP3Exception, POINT_TYPE_ANALOG_INPUT, POINT_TYPE_BINARY_INPUT\n",
    ")\n",
    "from dnp3.outstation import DNP3Outstation"
   ]
  },
  {
   "cell_type": "code",
   "execution_count": 2,
   "id": "087ea350",
   "metadata": {
    "pycharm": {
     "name": "#%%\n"
    }
   },
   "outputs": [],
   "source": [
    "logging.basicConfig(stream=sys.stdout, level=logging.DEBUG,\n",
    "                    format='%(asctime)s:%(name)s:%(levelname)s: %(message)s')\n",
    "\n",
    "_log = logging.getLogger(__name__)"
   ]
  },
  {
   "cell_type": "code",
   "execution_count": 3,
   "id": "98794940",
   "metadata": {
    "pycharm": {
     "name": "#%%\n"
    }
   },
   "outputs": [
    {
     "data": {
      "text/plain": "[{'data_type': 'AI',\n  'description': 'DER Profile Implementation Level. 1, 2 or 3 to indicate support for Level 1, Level 2 or Level 3 respectively.',\n  'group': 30,\n  'index': 0,\n  'name': 'DCHD.WTgt',\n  'units': 'N/A',\n  'variation': 2},\n {'data_type': 'AO',\n  'description': 'DER Profile Implementation Level. 1, 2 or 3 to indicate support for Level 1, Level 2 or Level 3 respectively.',\n  'group': 40,\n  'index': 0,\n  'name': 'DCHD.WTgt',\n  'units': 'N/A',\n  'variation': 2}]"
     },
     "execution_count": 3,
     "metadata": {},
     "output_type": "execute_result"
    }
   ],
   "source": [
    "import yaml\n",
    "ymal_path = \"points_config.yml\"\n",
    "with open(ymal_path) as y_f:\n",
    "    full_dict = yaml.safe_load(y_f)\n",
    "full_dict\n",
    "points = full_dict.get('points')\n",
    "points"
   ]
  },
  {
   "cell_type": "code",
   "execution_count": 4,
   "id": "abf4dcf5",
   "metadata": {
    "pycharm": {
     "name": "#%%\n"
    }
   },
   "outputs": [
    {
     "data": {
      "text/plain": "'3.12'"
     },
     "execution_count": 4,
     "metadata": {},
     "output_type": "execute_result"
    }
   ],
   "source": [
    "yaml.__version__"
   ]
  },
  {
   "cell_type": "code",
   "execution_count": 5,
   "id": "e0fa04c8",
   "metadata": {
    "pycharm": {
     "name": "#%%\n"
    }
   },
   "outputs": [],
   "source": [
    "# if not points:\n",
    "#     sys.stderr.write(\"invalid points specified in yaml configuration file.\")\n",
    "#     sys.exit(10)"
   ]
  },
  {
   "cell_type": "code",
   "execution_count": 5,
   "id": "9e0147bb",
   "metadata": {
    "pycharm": {
     "name": "#%%\n"
    }
   },
   "outputs": [
    {
     "name": "stdout",
     "output_type": "stream",
     "text": [
      "2022-06-01 22:42:24,329:dnp3.points:DEBUG: Loaded 2 PointDefinitions\n"
     ]
    }
   ],
   "source": [
    "oustation = full_dict.get('outstation', {}) # TODO: refactor to outstation_config, # TODO: understand why it wants to get \"outstation\"\n",
    "point_def = PointDefinitions()\n",
    "point_def.load_points(points)"
   ]
  },
  {
   "cell_type": "code",
   "execution_count": 6,
   "id": "ce00e05c",
   "metadata": {
    "pycharm": {
     "name": "#%%\n"
    }
   },
   "outputs": [],
   "source": [
    "from start_service import Processor"
   ]
  },
  {
   "cell_type": "code",
   "execution_count": 7,
   "id": "9579bec4",
   "metadata": {
    "pycharm": {
     "name": "#%%\n"
    }
   },
   "outputs": [],
   "source": [
    "processor = Processor(point_def)\n"
   ]
  },
  {
   "cell_type": "code",
   "execution_count": 10,
   "outputs": [
    {
     "name": "stdout",
     "output_type": "stream",
     "text": [
      "2022-06-01 22:46:22,230:dnp3.outstation:DEBUG: Configuring the DNP3 stack.\n",
      "2022-06-01 22:46:22,231:dnp3.outstation:DEBUG: Configuring the DNP3 Outstation database.\n",
      "2022-06-01 22:46:22,232:dnp3.outstation:DEBUG: Adding Point: PointDefinition DCHD.WTgt (30.2, index=0, type=Analog Input)\n",
      "2022-06-01 22:46:22,232:dnp3.outstation:DEBUG: Adding Point: PointDefinition DCHD.WTgt (40.2, index=0, type=Analog Output)\n",
      "2022-06-01 22:46:22,233:dnp3.outstation:DEBUG: Creating a DNP3Manager.\n",
      "2022-06-01 22:46:22,233:dnp3.outstation:DEBUG: Creating the DNP3 channel, a TCP server.\n",
      "2022-06-01 22:46:22,234:dnp3.outstation:DEBUG: DNP3Log ThreadPool.cpp(89)\t(filters=8) Starting thread (0)\n",
      "2022-06-01 22:46:22,234:dnp3.outstation:DEBUG: Setting DNP3 log level=15 (['NORMAL'])\n",
      "2022-06-01 22:46:22,235:dnp3.outstation:DEBUG: Adding the DNP3 Outstation to the channel.\n",
      "2022-06-01 22:46:22,239:dnp3.outstation:INFO: Enabling the DNP3 Outstation. Traffic can now start to flow.\n",
      "2022-06-01 22:46:22,240:start_service:DEBUG: ChannelState.OPENING\n",
      "2022-06-01 22:46:22,240:dnp3.outstation:DEBUG: DNP3Log TCPServer.cpp(98)\t(filters=8) Listening on: 0.0.0.0:20000\n"
     ]
    }
   ],
   "source": [
    "outstation_config = oustation\n",
    "dnp3_outstation = DNP3Outstation('0.0.0.0', 20000, outstation_config)\n",
    "dnp3_outstation.set_agent(processor)\n",
    "dnp3_outstation.start()"
   ],
   "metadata": {
    "collapsed": false,
    "pycharm": {
     "name": "#%%\n"
    }
   }
  },
  {
   "cell_type": "code",
   "execution_count": 21,
   "outputs": [
    {
     "data": {
      "text/plain": "{}"
     },
     "execution_count": 21,
     "metadata": {},
     "output_type": "execute_result"
    }
   ],
   "source": [
    "outstation_config"
   ],
   "metadata": {
    "collapsed": false,
    "pycharm": {
     "name": "#%%\n"
    }
   }
  },
  {
   "cell_type": "code",
   "execution_count": 12,
   "outputs": [
    {
     "data": {
      "text/plain": "<pydnp3.asiodnp3.IOutstation at 0x7f9ee0021870>"
     },
     "execution_count": 12,
     "metadata": {},
     "output_type": "execute_result"
    }
   ],
   "source": [
    "outs = dnp3_outstation.get_outstation()\n",
    "outs"
   ],
   "metadata": {
    "collapsed": false,
    "pycharm": {
     "name": "#%%\n"
    }
   }
  },
  {
   "cell_type": "code",
   "execution_count": 20,
   "outputs": [
    {
     "data": {
      "text/plain": "'0.0.0.0'"
     },
     "execution_count": 20,
     "metadata": {},
     "output_type": "execute_result"
    }
   ],
   "source": [
    "dnp3_outstation.local_ip"
   ],
   "metadata": {
    "collapsed": false,
    "pycharm": {
     "name": "#%%\n"
    }
   }
  },
  {
   "cell_type": "code",
   "execution_count": null,
   "outputs": [],
   "source": [],
   "metadata": {
    "collapsed": false,
    "pycharm": {
     "name": "#%%\n"
    }
   }
  },
  {
   "cell_type": "code",
   "execution_count": null,
   "outputs": [],
   "source": [],
   "metadata": {
    "collapsed": false,
    "pycharm": {
     "name": "#%%\n"
    }
   }
  },
  {
   "cell_type": "code",
   "execution_count": null,
   "outputs": [],
   "source": [],
   "metadata": {
    "collapsed": false,
    "pycharm": {
     "name": "#%%\n"
    }
   }
  },
  {
   "cell_type": "code",
   "execution_count": null,
   "outputs": [],
   "source": [],
   "metadata": {
    "collapsed": false,
    "pycharm": {
     "name": "#%%\n"
    }
   }
  },
  {
   "cell_type": "code",
   "execution_count": null,
   "outputs": [],
   "source": [],
   "metadata": {
    "collapsed": false,
    "pycharm": {
     "name": "#%%\n"
    }
   }
  },
  {
   "cell_type": "code",
   "execution_count": 15,
   "outputs": [
    {
     "ename": "AttributeError",
     "evalue": "'pydnp3.asiodnp3.IOutstation' object has no attribute 'outstation_config'",
     "output_type": "error",
     "traceback": [
      "\u001B[0;31m---------------------------------------------------------------------------\u001B[0m",
      "\u001B[0;31mAttributeError\u001B[0m                            Traceback (most recent call last)",
      "Input \u001B[0;32mIn [15]\u001B[0m, in \u001B[0;36m<cell line: 1>\u001B[0;34m()\u001B[0m\n\u001B[0;32m----> 1\u001B[0m \u001B[43mouts\u001B[49m\u001B[38;5;241;43m.\u001B[39;49m\u001B[43moutstation_config\u001B[49m\n",
      "\u001B[0;31mAttributeError\u001B[0m: 'pydnp3.asiodnp3.IOutstation' object has no attribute 'outstation_config'"
     ]
    }
   ],
   "source": [
    "outs.outstation_config"
   ],
   "metadata": {
    "collapsed": false,
    "pycharm": {
     "name": "#%%\n"
    }
   }
  },
  {
   "cell_type": "code",
   "execution_count": 13,
   "outputs": [
    {
     "data": {
      "text/plain": "pydnp3.asiodnp3.IOutstation"
     },
     "execution_count": 13,
     "metadata": {},
     "output_type": "execute_result"
    }
   ],
   "source": [
    "type(outs)"
   ],
   "metadata": {
    "collapsed": false,
    "pycharm": {
     "name": "#%%\n"
    }
   }
  },
  {
   "cell_type": "code",
   "execution_count": 9,
   "id": "71b36f5e",
   "metadata": {
    "pycharm": {
     "name": "#%%\n"
    }
   },
   "outputs": [],
   "source": [
    "def start_outstation(outstation_config, processor):\n",
    "\n",
    "    dnp3_outstation = DNP3Outstation('0.0.0.0', 20000, outstation_config)\n",
    "    dnp3_outstation.set_agent(processor)\n",
    "    dnp3_outstation.start()\n",
    "    _log.debug('DNP3 initialization complete. In command loop.')\n",
    "    # Ad-hoc tests can be performed at this point if desired.\n",
    "    return dnp3_outstation"
   ]
  },
  {
   "cell_type": "code",
   "execution_count": 10,
   "id": "34ada3e6",
   "metadata": {
    "pycharm": {
     "name": "#%%\n"
    }
   },
   "outputs": [
    {
     "name": "stdout",
     "output_type": "stream",
     "text": [
      "2022-06-01 22:42:08,975:dnp3.outstation:DEBUG: Configuring the DNP3 stack.\n",
      "2022-06-01 22:42:08,975:dnp3.outstation:DEBUG: Configuring the DNP3 Outstation database.\n",
      "2022-06-01 22:42:08,976:dnp3.outstation:DEBUG: Adding Point: PointDefinition DCHD.WTgt (30.2, index=0, type=Analog Input)\n",
      "2022-06-01 22:42:08,976:dnp3.outstation:DEBUG: Adding Point: PointDefinition DCHD.WTgt (40.2, index=0, type=Analog Output)\n",
      "2022-06-01 22:42:08,976:dnp3.outstation:DEBUG: Creating a DNP3Manager.\n",
      "2022-06-01 22:42:08,976:dnp3.outstation:DEBUG: Creating the DNP3 channel, a TCP server.\n",
      "2022-06-01 22:42:08,977:dnp3.outstation:DEBUG: Setting DNP3 log level=15 (['NORMAL'])\n",
      "2022-06-01 22:42:08,977:dnp3.outstation:DEBUG: DNP3Log ThreadPool.cpp(89)\t(filters=8) Starting thread (0)\n",
      "2022-06-01 22:42:08,977:dnp3.outstation:DEBUG: Adding the DNP3 Outstation to the channel.\n",
      "2022-06-01 22:42:08,981:dnp3.outstation:INFO: Enabling the DNP3 Outstation. Traffic can now start to flow.\n",
      "2022-06-01 22:42:08,981:start_service:DEBUG: ChannelState.OPENING\n",
      "2022-06-01 22:42:08,982:dnp3.outstation:DEBUG: DNP3Log TCPServer.cpp(98)\t(filters=8) Listening on: 0.0.0.0:20000\n",
      "2022-06-01 22:42:08,983:__main__:DEBUG: DNP3 initialization complete. In command loop.\n"
     ]
    }
   ],
   "source": [
    "outstation = start_outstation(oustation, processor)\n",
    "# try:\n",
    "#     while True:\n",
    "#         sleep(0.01)\n",
    "# finally:\n",
    "#     outstation.shutdown()\n",
    "#     print(\"=================\")\n",
    "# #     sys.exit(0)"
   ]
  },
  {
   "cell_type": "code",
   "execution_count": null,
   "outputs": [
    {
     "name": "stdout",
     "output_type": "stream",
     "text": [
      "2022-06-01 22:42:08,987:dnp3.outstation:DEBUG: Configuring the DNP3 stack.\n",
      "2022-06-01 22:42:08,989:dnp3.outstation:DEBUG: Configuring the DNP3 Outstation database.\n",
      "2022-06-01 22:42:08,990:dnp3.outstation:DEBUG: Adding Point: PointDefinition DCHD.WTgt (30.2, index=0, type=Analog Input)\n",
      "2022-06-01 22:42:08,990:dnp3.outstation:DEBUG: Adding Point: PointDefinition DCHD.WTgt (40.2, index=0, type=Analog Output)\n",
      "2022-06-01 22:42:08,992:dnp3.outstation:DEBUG: Creating a DNP3Manager.\n",
      "2022-06-01 22:42:08,992:dnp3.outstation:DEBUG: Creating the DNP3 channel, a TCP server.\n",
      "2022-06-01 22:42:08,992:dnp3.outstation:DEBUG: DNP3Log ThreadPool.cpp(89)\t(filters=8) Starting thread (0)\n",
      "2022-06-01 22:42:08,993:dnp3.outstation:DEBUG: Setting DNP3 log level=15 (['NORMAL'])\n",
      "2022-06-01 22:42:09,017:dnp3.outstation:DEBUG: Adding the DNP3 Outstation to the channel.\n",
      "2022-06-01 22:42:09,020:dnp3.outstation:INFO: Enabling the DNP3 Outstation. Traffic can now start to flow.\n",
      "2022-06-01 22:42:09,021:start_service:DEBUG: ChannelState.OPENING\n",
      "2022-06-01 22:42:09,022:dnp3.outstation:DEBUG: DNP3Log TCPServerIOHandler.cpp(81)\t(filters=4) Address already in use\n",
      "2022-06-01 22:42:09,022:__main__:DEBUG: DNP3 initialization complete. In command loop.\n"
     ]
    }
   ],
   "source": [
    "try:\n",
    "    outstation = start_outstation(oustation, processor)\n",
    "except Exception as e:\n",
    "    print(e)"
   ],
   "metadata": {
    "collapsed": false,
    "pycharm": {
     "name": "#%%\n"
    }
   }
  },
  {
   "cell_type": "code",
   "execution_count": null,
   "id": "5e95dfa2",
   "metadata": {
    "pycharm": {
     "name": "#%%\n"
    }
   },
   "outputs": [],
   "source": [
    "# outstation.shutdown()"
   ]
  },
  {
   "cell_type": "code",
   "execution_count": null,
   "id": "3e734648",
   "metadata": {
    "pycharm": {
     "name": "#%%\n"
    }
   },
   "outputs": [],
   "source": []
  }
 ],
 "metadata": {
  "kernelspec": {
   "display_name": "Python 3 (ipykernel)",
   "language": "python",
   "name": "python3"
  },
  "language_info": {
   "codemirror_mode": {
    "name": "ipython",
    "version": 3
   },
   "file_extension": ".py",
   "mimetype": "text/x-python",
   "name": "python",
   "nbconvert_exporter": "python",
   "pygments_lexer": "ipython3",
   "version": "3.8.13"
  }
 },
 "nbformat": 4,
 "nbformat_minor": 5
}